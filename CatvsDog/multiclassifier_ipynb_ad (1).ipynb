{
 "cells": [
  {
   "cell_type": "code",
   "execution_count": 5,
   "metadata": {},
   "outputs": [
    {
     "name": "stdout",
     "output_type": "stream",
     "text": [
      "Found 155 images belonging to 4 classes.\n",
      "Found 155 images belonging to 4 classes.\n",
      "Epoch 1/8\n",
      "5/5 [==============================] - 34s 7s/step - loss: 1.4465 - accuracy: 0.4774 - val_loss: 1.0423 - val_accuracy: 0.5469\n",
      "Epoch 2/8\n",
      "5/5 [==============================] - 32s 6s/step - loss: 0.9357 - accuracy: 0.5871 - val_loss: 0.4979 - val_accuracy: 0.7317\n",
      "Epoch 3/8\n",
      "5/5 [==============================] - 32s 6s/step - loss: 0.6733 - accuracy: 0.7226 - val_loss: 0.5979 - val_accuracy: 0.7398\n",
      "Epoch 4/8\n",
      "5/5 [==============================] - 32s 6s/step - loss: 0.5146 - accuracy: 0.8129 - val_loss: 0.5568 - val_accuracy: 0.7480\n",
      "Epoch 5/8\n",
      "5/5 [==============================] - 36s 7s/step - loss: 0.5109 - accuracy: 0.7806 - val_loss: 0.2242 - val_accuracy: 0.9187\n",
      "Epoch 6/8\n",
      "5/5 [==============================] - 35s 7s/step - loss: 0.2900 - accuracy: 0.8968 - val_loss: 0.1615 - val_accuracy: 0.9531\n",
      "Epoch 7/8\n",
      "5/5 [==============================] - 35s 7s/step - loss: 0.1388 - accuracy: 0.9613 - val_loss: 0.1762 - val_accuracy: 0.9268\n",
      "Epoch 8/8\n",
      "5/5 [==============================] - 38s 8s/step - loss: 0.1408 - accuracy: 0.9677 - val_loss: 0.0743 - val_accuracy: 1.0000\n",
      "Saved model to disk\n"
     ]
    }
   ],
   "source": [
    "\n",
    "from keras.models import Sequential\n",
    "from keras.layers import Conv2D\n",
    "from keras.layers import MaxPooling2D\n",
    "from keras.layers import Flatten\n",
    "from keras.layers import Dense\n",
    "\n",
    "# Initialising the CNN\n",
    "classifier = Sequential()\n",
    "\n",
    "# Step 1 - Convolution\n",
    "classifier.add(Conv2D(32, (3, 3), input_shape = (120, 120, 3), activation = 'relu'))\n",
    "classifier.add(Conv2D(64, (3, 3), activation = 'relu'))\n",
    "# Step 2 - Pooling\n",
    "classifier.add(MaxPooling2D(pool_size = (2, 2)))\n",
    "\n",
    "classifier.add(Conv2D(128, (3, 3), activation = 'relu'))\n",
    "classifier.add(Conv2D(128, (3, 3), activation = 'relu'))\n",
    "# Adding a second convolutional layer\n",
    "\n",
    "classifier.add(MaxPooling2D(pool_size = (2, 2)))\n",
    "\n",
    "\n",
    "# Step 3 - Flattening\n",
    "classifier.add(Flatten())\n",
    "\n",
    "# Step 4 - Full connection\n",
    "classifier.add(Dense(units = 512, activation = 'relu'))\n",
    "classifier.add(Dense(units = 218, activation = 'relu'))\n",
    "classifier.add(Dense(units = 4, activation = 'softmax'))\n",
    "\n",
    "# Compiling the CNN\n",
    "classifier.compile(optimizer = 'adam', loss = 'categorical_crossentropy', metrics = ['accuracy'])\n",
    "\n",
    "# Part 2 - Fitting the CNN to the images\n",
    "\n",
    "from keras.preprocessing.image import ImageDataGenerator\n",
    "\n",
    "train_datagen = ImageDataGenerator(rescale = 1./255)\n",
    "test_datagen = ImageDataGenerator(rescale = 1./255)\n",
    "\n",
    "training_set = train_datagen.flow_from_directory('G:/dl project/fruit',\n",
    "                                                 target_size = (120, 120),\n",
    "                                                 batch_size = 32,\n",
    "                                                 class_mode = 'categorical')\n",
    "\n",
    "test_set = test_datagen.flow_from_directory('G:/dl project/fruit',\n",
    "                                            target_size = (120, 120),\n",
    "                                            batch_size = 32,\n",
    "                                            class_mode = 'categorical')\n",
    "\n",
    "model = classifier.fit_generator(training_set,\n",
    "                         steps_per_epoch = 5,\n",
    "                         epochs = 8,\n",
    "                         validation_data = test_set,    \n",
    "                         validation_steps = 4)\n",
    "\n",
    "classifier.save(\"modelmulticlassi_fruit.h5\")\n",
    "print(\"Saved model to disk\")\n",
    "\n",
    "# Part 3 - Making new predictions\n",
    "\n",
    "\n",
    "\n",
    "\n"
   ]
  },
  {
   "cell_type": "code",
   "execution_count": 6,
   "metadata": {},
   "outputs": [
    {
     "data": {
      "image/png": "[encoded data removed]",
      "text/plain": [
       "<Figure size 432x288 with 1 Axes>"
      ]
     },
     "metadata": {
      "needs_background": "light"
     },
     "output_type": "display_data"
    },
    {
     "data": {
      "image/png": "[encoded data removed]",
      "text/plain": [
       "<Figure size 432x288 with 1 Axes>"
      ]
     },
     "metadata": {
      "needs_background": "light"
     },
     "output_type": "display_data"
    }
   ],
   "source": [
    "\n",
    "import matplotlib.pyplot as plt\n",
    "acc = model.history['accuracy']\n",
    "val_acc = model.history['val_accuracy']\n",
    "loss = model.history['loss']\n",
    "val_loss = model.history['val_loss']\n",
    "\n",
    "epochs = range(len(acc))\n",
    "\n",
    "plt.plot(epochs, acc, 'bo', label='Training accuracy')\n",
    "plt.plot(epochs, val_acc, 'b', label='Validation accuracy')\n",
    "plt.title('Training and validation accuracy')\n",
    "\n",
    "plt.figure()\n",
    "\n",
    "plt.plot(epochs, loss, 'bo', label='Training Loss')\n",
    "plt.plot(epochs, val_loss, 'b', label='Validation Loss')\n",
    "plt.title('Training and validation loss')\n",
    "plt.legend()\n",
    "\n",
    "plt.show()\n"
   ]
  },
  {
   "cell_type": "code",
   "execution_count": 10,
   "metadata": {},
   "outputs": [
    {
     "name": "stdout",
     "output_type": "stream",
     "text": [
      "mango\n"
     ]
    }
   ],
   "source": [
    "from keras.models import load_model\n",
    "import numpy as np\n",
    "from keras.preprocessing import image\n",
    "\n",
    "\n",
    "\n",
    "\n",
    "\n",
    "import numpy as np\n",
    "from keras.preprocessing import image\n",
    "\n",
    "# load model\n",
    "model = load_model('modelmulticlassi_fruit.h5')\n",
    "test_image = image.load_img('G:/dl project/fruit/mango/mango11.jpg', target_size = (120, 120))\n",
    "test_image = image.img_to_array(test_image)\n",
    "test_image = np.expand_dims(test_image, axis = 0)\n",
    "result = model.predict(test_image)\n",
    "training_set.class_indices\n",
    "\n",
    "if result[0][0] == 1:\n",
    "    prediction = 'apple'\n",
    "    print(prediction)\n",
    "elif result[0][1] == 1:\n",
    "    prediction = 'carrot'\n",
    "    print(prediction)\n",
    "    \n",
    "elif result[0][2] == 1:\n",
    "    prediction = 'husky'\n",
    "    print(prediction)\n",
    "   \n",
    "    \n",
    "else:\n",
    "    result[0][3] == 1\n",
    "    prediction = 'mango'\n",
    "    print(prediction)\n"
   ]
  },
  {
   "cell_type": "code",
   "execution_count": null,
   "metadata": {},
   "outputs": [],
   "source": []
  }
 ],
 "metadata": {
  "kernelspec": {
   "display_name": "Python 3",
   "language": "python",
   "name": "python3"
  },
  "language_info": {
   "codemirror_mode": {
    "name": "ipython",
    "version": 3
   },
   "file_extension": ".py",
   "mimetype": "text/x-python",
   "name": "python",
   "nbconvert_exporter": "python",
   "pygments_lexer": "ipython3",
   "version": "3.7.4"
  }
 },
 "nbformat": 4,
 "nbformat_minor": 2
}
