{
 "cells": [
  {
   "cell_type": "code",
   "execution_count": 1,
   "metadata": {},
   "outputs": [
    {
     "name": "stderr",
     "output_type": "stream",
     "text": [
      "Using TensorFlow backend.\n"
     ]
    },
    {
     "name": "stdout",
     "output_type": "stream",
     "text": [
      "WARNING:tensorflow:From C:\\Users\\SMART\\Anaconda3\\lib\\site-packages\\keras\\backend\\tensorflow_backend.py:4070: The name tf.nn.max_pool is deprecated. Please use tf.nn.max_pool2d instead.\n",
      "\n",
      "WARNING:tensorflow:From C:\\Users\\SMART\\Anaconda3\\lib\\site-packages\\tensorflow\\python\\ops\\nn_impl.py:180: add_dispatch_support.<locals>.wrapper (from tensorflow.python.ops.array_ops) is deprecated and will be removed in a future version.\n",
      "Instructions for updating:\n",
      "Use tf.where in 2.0, which has the same broadcast rule as np.where\n",
      "Found 310 images belonging to 2 classes.\n",
      "15\n",
      "Found 310 images belonging to 2 classes.\n",
      "WARNING:tensorflow:From C:\\Users\\SMART\\Anaconda3\\lib\\site-packages\\keras\\backend\\tensorflow_backend.py:422: The name tf.global_variables is deprecated. Please use tf.compat.v1.global_variables instead.\n",
      "\n",
      "Epoch 1/12\n",
      "15/15 [==============================] - 33s 2s/step - loss: 0.7186 - accuracy: 0.5032 - val_loss: 0.7296 - val_accuracy: 0.5306\n",
      "Epoch 2/12\n",
      "15/15 [==============================] - 14s 920ms/step - loss: 0.6909 - accuracy: 0.5484 - val_loss: 0.6989 - val_accuracy: 0.5782\n",
      "Epoch 3/12\n",
      "15/15 [==============================] - 15s 970ms/step - loss: 0.6831 - accuracy: 0.5484 - val_loss: 0.6576 - val_accuracy: 0.5634\n",
      "Epoch 4/12\n",
      "15/15 [==============================] - 14s 952ms/step - loss: 0.6708 - accuracy: 0.5871 - val_loss: 0.5652 - val_accuracy: 0.5850\n",
      "Epoch 5/12\n",
      "15/15 [==============================] - 15s 1s/step - loss: 0.6267 - accuracy: 0.6355 - val_loss: 0.5750 - val_accuracy: 0.7817\n",
      "Epoch 6/12\n",
      "15/15 [==============================] - 16s 1s/step - loss: 0.5720 - accuracy: 0.6935 - val_loss: 0.4592 - val_accuracy: 0.8163\n",
      "Epoch 7/12\n",
      "15/15 [==============================] - 14s 962ms/step - loss: 0.5427 - accuracy: 0.7097 - val_loss: 0.4796 - val_accuracy: 0.7465\n",
      "Epoch 8/12\n",
      "15/15 [==============================] - 17s 1s/step - loss: 0.4749 - accuracy: 0.7581 - val_loss: 0.3981 - val_accuracy: 0.8367\n",
      "Epoch 9/12\n",
      "15/15 [==============================] - 16s 1s/step - loss: 0.3475 - accuracy: 0.8613 - val_loss: 0.1667 - val_accuracy: 0.9437\n",
      "Epoch 10/12\n",
      "15/15 [==============================] - 16s 1s/step - loss: 0.2703 - accuracy: 0.8935 - val_loss: 0.1545 - val_accuracy: 0.9524\n",
      "Epoch 11/12\n",
      "15/15 [==============================] - 16s 1s/step - loss: 0.1527 - accuracy: 0.9323 - val_loss: 0.0238 - val_accuracy: 0.9859\n",
      "Epoch 12/12\n",
      "15/15 [==============================] - 17s 1s/step - loss: 0.0695 - accuracy: 0.9871 - val_loss: 0.1521 - val_accuracy: 0.9864\n",
      "Saved model to disk\n"
     ]
    }
   ],
   "source": [
    "# cat vs dog basic CNN\n",
    "\n",
    "\n",
    "\n",
    "from keras.models import Sequential\n",
    "from keras.layers import Conv2D\n",
    "from keras.layers import MaxPooling2D\n",
    "from keras.layers import Flatten\n",
    "from keras.layers import Dense\n",
    "\n",
    "# Initialising the CNN\n",
    "classifier = Sequential()\n",
    "\n",
    "# Step 1 - Convolution\n",
    "classifier.add(Conv2D(32, (3, 3), input_shape = (64, 64, 3), activation = 'relu'))\n",
    "classifier.add(Conv2D(64, (3, 3), activation = 'relu'))\n",
    "\n",
    "# Step 2 - Pooling\n",
    "classifier.add(MaxPooling2D(pool_size = (2, 2)))\n",
    "\n",
    "# Adding a second convolutional layer\n",
    "#classifier.add(Conv2D(32, (3, 3), activation = 'relu'))\n",
    "classifier.add(Conv2D(128, (3, 3), activation = 'relu'))\n",
    "classifier.add(MaxPooling2D(pool_size = (2, 2)))\n",
    "\n",
    "# Step 3 - Flattening\n",
    "classifier.add(Flatten())\n",
    "\n",
    "# Step 4 - Full connection\n",
    "classifier.add(Dense(units = 512, activation = 'relu'))\n",
    "\n",
    "classifier.add(Dense(units = 1, activation = 'sigmoid'))\n",
    "\n",
    "# Compiling the CNN\n",
    "classifier.compile(optimizer = 'adam', loss = 'binary_crossentropy', metrics = ['accuracy'])\n",
    "\n",
    "\n",
    "\n",
    "# Part 2 - Fitting the CNN to the images\n",
    "\n",
    "from keras.preprocessing.image import ImageDataGenerator\n",
    "\n",
    "train_datagen = ImageDataGenerator(rescale = 1./255)\n",
    "test_datagen = ImageDataGenerator(rescale = 1./255)\n",
    "\n",
    "training_set = train_datagen.flow_from_directory('G:\\ML Datasets\\DATA SETS\\catsVSdog\\cnnfirest',\n",
    "                                                 target_size = (64, 64),\n",
    "                                                 batch_size = 21,\n",
    "                                                 class_mode = 'binary')\n",
    "print(len(training_set))\n",
    "test_set = test_datagen.flow_from_directory('G:\\ML Datasets\\DATA SETS\\catsVSdog\\cnnfirest',\n",
    "                                            target_size = (64, 64),\n",
    "                                            batch_size = 21,\n",
    "                                            class_mode = 'binary')\n",
    "\n",
    "model = classifier.fit_generator(training_set,\n",
    "                         steps_per_epoch =15,\n",
    "                         epochs = 12,\n",
    "                         validation_data = test_set,    \n",
    "                         validation_steps =7 )\n",
    "\n",
    "classifier.save(\"modelcvd.h5\")\n",
    "print(\"Saved model to disk\")\n",
    "\n",
    "# Part 3 - Making new predictions\n",
    "\n",
    "\n",
    "\n",
    "\n"
   ]
  },
  {
   "cell_type": "code",
   "execution_count": 8,
   "metadata": {},
   "outputs": [
    {
     "name": "stdout",
     "output_type": "stream",
     "text": [
      "Model: \"sequential_1\"\n",
      "_________________________________________________________________\n",
      "Layer (type)                 Output Shape              Param #   \n",
      "=================================================================\n",
      "conv2d_1 (Conv2D)            (None, 62, 62, 32)        896       \n",
      "_________________________________________________________________\n",
      "conv2d_2 (Conv2D)            (None, 60, 60, 64)        18496     \n",
      "_________________________________________________________________\n",
      "max_pooling2d_1 (MaxPooling2 (None, 30, 30, 64)        0         \n",
      "_________________________________________________________________\n",
      "conv2d_3 (Conv2D)            (None, 28, 28, 128)       73856     \n",
      "_________________________________________________________________\n",
      "max_pooling2d_2 (MaxPooling2 (None, 14, 14, 128)       0         \n",
      "_________________________________________________________________\n",
      "flatten_1 (Flatten)          (None, 25088)             0         \n",
      "_________________________________________________________________\n",
      "dense_1 (Dense)              (None, 512)               12845568  \n",
      "_________________________________________________________________\n",
      "dense_2 (Dense)              (None, 1)                 513       \n",
      "=================================================================\n",
      "Total params: 12,939,329\n",
      "Trainable params: 12,939,329\n",
      "Non-trainable params: 0\n",
      "_________________________________________________________________\n"
     ]
    }
   ],
   "source": [
    "from keras.models import Sequential\n",
    "model.summary()"
   ]
  },
  {
   "cell_type": "code",
   "execution_count": 5,
   "metadata": {},
   "outputs": [
    {
     "data": {
      "image/png": "[encoded data removed]",
      "text/plain": [
       "<Figure size 432x288 with 1 Axes>"
      ]
     },
     "metadata": {
      "needs_background": "light"
     },
     "output_type": "display_data"
    },
    {
     "data": {
      "image/png": "[encoded data removed]",
      "text/plain": [
       "<Figure size 432x288 with 1 Axes>"
      ]
     },
     "metadata": {
      "needs_background": "light"
     },
     "output_type": "display_data"
    }
   ],
   "source": [
    "import matplotlib.pyplot as plt\n",
    "acc = model.history['accuracy']\n",
    "val_acc = model.history['val_accuracy']\n",
    "loss = model.history['loss']\n",
    "val_loss = model.history['val_loss']\n",
    "\n",
    "epochs = range(len(acc))\n",
    "\n",
    "plt.plot(epochs, acc, 'bo', label='Training accuracy')\n",
    "plt.plot(epochs, val_acc, 'b', label='Validation accuracy')\n",
    "plt.title('Training and validation accuracy')\n",
    "\n",
    "plt.figure()\n",
    "\n",
    "plt.plot(epochs, loss, 'bo', label='Training Loss')\n",
    "plt.plot(epochs, val_loss, 'b', label='Validation Loss')\n",
    "plt.title('Training and validation loss')\n",
    "plt.legend()\n",
    "\n",
    "plt.show()\n"
   ]
  },
  {
   "cell_type": "code",
   "execution_count": 7,
   "metadata": {},
   "outputs": [
    {
     "name": "stdout",
     "output_type": "stream",
     "text": [
      "cat\n"
     ]
    }
   ],
   "source": [
    "import numpy as np\n",
    "from keras.preprocessing import image\n",
    "from keras.models import load_model\n",
    "model = load_model('modelcvd.h5')\n",
    "\n",
    "test_image = image.load_img('G:/ML Datasets/DATA SETS/catsVSdog/cnnfirest/cat/cat.100.jpg', target_size = (64, 64))\n",
    "test_image = image.img_to_array(test_image)\n",
    "test_image = np.expand_dims(test_image, axis = 0)\n",
    "result = model.predict(test_image)\n",
    "training_set.class_indices\n",
    "if result[0][0] == 1:\n",
    "    prediction = 'dog'\n",
    "    print(prediction)\n",
    "else:\n",
    "    prediction = 'cat'\n",
    "    print(prediction)"
   ]
  },
  {
   "cell_type": "code",
   "execution_count": null,
   "metadata": {},
   "outputs": [],
   "source": []
  }
 ],
 "metadata": {
  "kernelspec": {
   "display_name": "Python 3",
   "language": "python",
   "name": "python3"
  },
  "language_info": {
   "codemirror_mode": {
    "name": "ipython",
    "version": 3
   },
   "file_extension": ".py",
   "mimetype": "text/x-python",
   "name": "python",
   "nbconvert_exporter": "python",
   "pygments_lexer": "ipython3",
   "version": "3.7.4"
  }
 },
 "nbformat": 4,
 "nbformat_minor": 2
}
